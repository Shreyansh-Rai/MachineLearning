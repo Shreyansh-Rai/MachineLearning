{
 "cells": [
  {
   "cell_type": "markdown",
   "id": "b6a958ec",
   "metadata": {},
   "source": [
    "# First Equation\n",
    "$$Y = X^2$$"
   ]
  },
  {
   "cell_type": "code",
   "execution_count": 7,
   "id": "1ccce1dd",
   "metadata": {},
   "outputs": [
    {
     "name": "stdout",
     "output_type": "stream",
     "text": [
      "Enter\n",
      "100\n",
      "10000\n"
     ]
    }
   ],
   "source": [
    "X = int(input(\"Enter\\n\"))\n",
    "Y = X**2\n",
    "print(Y)"
   ]
  }
 ],
 "metadata": {
  "kernelspec": {
   "display_name": "Python 3 (ipykernel)",
   "language": "python",
   "name": "python3"
  },
  "language_info": {
   "codemirror_mode": {
    "name": "ipython",
    "version": 3
   },
   "file_extension": ".py",
   "mimetype": "text/x-python",
   "name": "python",
   "nbconvert_exporter": "python",
   "pygments_lexer": "ipython3",
   "version": "3.9.7"
  }
 },
 "nbformat": 4,
 "nbformat_minor": 5
}
